{
 "cells": [
  {
   "cell_type": "code",
   "execution_count": 1,
   "id": "00119ac2",
   "metadata": {},
   "outputs": [
    {
     "name": "stdout",
     "output_type": "stream",
     "text": [
      "Collecting azure-storage-file-datalake\n",
      "  Downloading azure_storage_file_datalake-12.22.0-py3-none-any.whl.metadata (16 kB)\n",
      "Collecting azure-core>=1.30.0 (from azure-storage-file-datalake)\n",
      "  Downloading azure_core-1.36.0-py3-none-any.whl.metadata (47 kB)\n",
      "Collecting azure-storage-blob>=12.27.0 (from azure-storage-file-datalake)\n",
      "  Downloading azure_storage_blob-12.27.0-py3-none-any.whl.metadata (26 kB)\n",
      "Requirement already satisfied: typing-extensions>=4.6.0 in /home/codespace/.local/lib/python3.12/site-packages (from azure-storage-file-datalake) (4.14.1)\n",
      "Collecting isodate>=0.6.1 (from azure-storage-file-datalake)\n",
      "  Downloading isodate-0.7.2-py3-none-any.whl.metadata (11 kB)\n",
      "Requirement already satisfied: requests>=2.21.0 in /home/codespace/.local/lib/python3.12/site-packages (from azure-core>=1.30.0->azure-storage-file-datalake) (2.32.4)\n",
      "Collecting cryptography>=2.1.4 (from azure-storage-blob>=12.27.0->azure-storage-file-datalake)\n",
      "  Downloading cryptography-46.0.3-cp311-abi3-manylinux_2_34_x86_64.whl.metadata (5.7 kB)\n",
      "Collecting cffi>=2.0.0 (from cryptography>=2.1.4->azure-storage-blob>=12.27.0->azure-storage-file-datalake)\n",
      "  Downloading cffi-2.0.0-cp312-cp312-manylinux2014_x86_64.manylinux_2_17_x86_64.whl.metadata (2.6 kB)\n",
      "Requirement already satisfied: pycparser in /home/codespace/.local/lib/python3.12/site-packages (from cffi>=2.0.0->cryptography>=2.1.4->azure-storage-blob>=12.27.0->azure-storage-file-datalake) (2.22)\n",
      "Requirement already satisfied: charset_normalizer<4,>=2 in /home/codespace/.local/lib/python3.12/site-packages (from requests>=2.21.0->azure-core>=1.30.0->azure-storage-file-datalake) (3.4.2)\n",
      "Requirement already satisfied: idna<4,>=2.5 in /home/codespace/.local/lib/python3.12/site-packages (from requests>=2.21.0->azure-core>=1.30.0->azure-storage-file-datalake) (3.10)\n",
      "Requirement already satisfied: urllib3<3,>=1.21.1 in /home/codespace/.local/lib/python3.12/site-packages (from requests>=2.21.0->azure-core>=1.30.0->azure-storage-file-datalake) (2.5.0)\n",
      "Requirement already satisfied: certifi>=2017.4.17 in /home/codespace/.local/lib/python3.12/site-packages (from requests>=2.21.0->azure-core>=1.30.0->azure-storage-file-datalake) (2025.7.9)\n",
      "Downloading azure_storage_file_datalake-12.22.0-py3-none-any.whl (264 kB)\n",
      "Downloading azure_core-1.36.0-py3-none-any.whl (213 kB)\n",
      "Downloading azure_storage_blob-12.27.0-py3-none-any.whl (428 kB)\n",
      "Downloading cryptography-46.0.3-cp311-abi3-manylinux_2_34_x86_64.whl (4.5 MB)\n",
      "\u001b[2K   \u001b[90m━━━━━━━━━━━━━━━━━━━━━━━━━━━━━━━━━━━━━━━━\u001b[0m \u001b[32m4.5/4.5 MB\u001b[0m \u001b[31m46.1 MB/s\u001b[0m eta \u001b[36m0:00:00\u001b[0m\n",
      "\u001b[?25hDownloading cffi-2.0.0-cp312-cp312-manylinux2014_x86_64.manylinux_2_17_x86_64.whl (219 kB)\n",
      "Downloading isodate-0.7.2-py3-none-any.whl (22 kB)\n",
      "Installing collected packages: isodate, cffi, cryptography, azure-core, azure-storage-blob, azure-storage-file-datalake\n",
      "\u001b[2K  Attempting uninstall: cffi\n",
      "\u001b[2K    Found existing installation: cffi 1.17.1\n",
      "\u001b[2K    Uninstalling cffi-1.17.1:\n",
      "\u001b[2K      Successfully uninstalled cffi-1.17.1━━━━━━━━━━━━━━━━━━━━━━━━\u001b[0m \u001b[32m1/6\u001b[0m [cffi]\n",
      "\u001b[2K   \u001b[90m━━━━━━━━━━━━━━━━━━━━━━━━━━━━━━━━━━━━━━━━\u001b[0m \u001b[32m6/6\u001b[0m [azure-storage-file-datalake]age-file-datalake]\n",
      "\u001b[1A\u001b[2KSuccessfully installed azure-core-1.36.0 azure-storage-blob-12.27.0 azure-storage-file-datalake-12.22.0 cffi-2.0.0 cryptography-46.0.3 isodate-0.7.2\n",
      "\n",
      "\u001b[1m[\u001b[0m\u001b[34;49mnotice\u001b[0m\u001b[1;39;49m]\u001b[0m\u001b[39;49m A new release of pip is available: \u001b[0m\u001b[31;49m25.1.1\u001b[0m\u001b[39;49m -> \u001b[0m\u001b[32;49m25.2\u001b[0m\n",
      "\u001b[1m[\u001b[0m\u001b[34;49mnotice\u001b[0m\u001b[1;39;49m]\u001b[0m\u001b[39;49m To update, run: \u001b[0m\u001b[32;49mpython3 -m pip install --upgrade pip\u001b[0m\n"
     ]
    }
   ],
   "source": [
    "! pip install azure-storage-file-datalake"
   ]
  },
  {
   "cell_type": "code",
   "execution_count": 4,
   "id": "072c8caa",
   "metadata": {},
   "outputs": [],
   "source": [
    "import pandas as pd\n",
    "from azure.storage.filedatalake import DataLakeServiceClient\n",
    "from io import StringIO"
   ]
  },
  {
   "cell_type": "code",
   "execution_count": null,
   "id": "37e7c2de",
   "metadata": {},
   "outputs": [],
   "source": [
    "storage_account = \"sakrm001\"\n",
    "sas_token = 'sv=2024-11-04&ss=bfqt&srt=co&sp=rwdlacupyx&se=2025-10-18T10:12:41Z&st=2025-10-16T01:57:41Z&spr=https,http&sig=tjtBlzc%2FH5Qx1%2FuMnyJEIhEQmyCvuglfkONMV%2Bkg%2FXQ%3D'\n",
    "container = \"raw\"\n",
    "\n",
    "file_name = \"departments.csv\""
   ]
  },
  {
   "cell_type": "code",
   "execution_count": 30,
   "id": "9ef3eaa5",
   "metadata": {},
   "outputs": [],
   "source": [
    "def obtener_cliente_adls():\n",
    "    client = DataLakeServiceClient(\n",
    "        account_url= f\"https://{storage_account}.dfs.core.windows.net\",\n",
    "        credential=sas_token\n",
    "    )\n",
    "    return client"
   ]
  },
  {
   "cell_type": "code",
   "execution_count": 31,
   "id": "defcc7a4",
   "metadata": {},
   "outputs": [],
   "source": [
    "client = obtener_cliente_adls()\n",
    "container_client = client.get_file_system_client(file_system=container)\n",
    "file = container_client.get_file_client(file_name)"
   ]
  },
  {
   "cell_type": "code",
   "execution_count": 33,
   "id": "a2b2c595",
   "metadata": {},
   "outputs": [
    {
     "data": {
      "text/plain": [
       "'department_id,department_name\\n2,Fitness\\n3,Footwear\\n4,Apparel\\n5,Golf\\n6,Outdoors\\n7,Fan Shop\\n'"
      ]
     },
     "execution_count": 33,
     "metadata": {},
     "output_type": "execute_result"
    }
   ],
   "source": [
    "download = file.download_file()\n",
    "download_bytes = download.readall()\n",
    "file_content = download_bytes.decode(\"utf-8\")\n",
    "file_content"
   ]
  },
  {
   "cell_type": "code",
   "execution_count": 35,
   "id": "46c5db7a",
   "metadata": {},
   "outputs": [
    {
     "data": {
      "text/html": [
       "<div>\n",
       "<style scoped>\n",
       "    .dataframe tbody tr th:only-of-type {\n",
       "        vertical-align: middle;\n",
       "    }\n",
       "\n",
       "    .dataframe tbody tr th {\n",
       "        vertical-align: top;\n",
       "    }\n",
       "\n",
       "    .dataframe thead th {\n",
       "        text-align: right;\n",
       "    }\n",
       "</style>\n",
       "<table border=\"1\" class=\"dataframe\">\n",
       "  <thead>\n",
       "    <tr style=\"text-align: right;\">\n",
       "      <th></th>\n",
       "      <th>department_id</th>\n",
       "      <th>department_name</th>\n",
       "    </tr>\n",
       "  </thead>\n",
       "  <tbody>\n",
       "    <tr>\n",
       "      <th>0</th>\n",
       "      <td>2</td>\n",
       "      <td>Fitness</td>\n",
       "    </tr>\n",
       "    <tr>\n",
       "      <th>1</th>\n",
       "      <td>3</td>\n",
       "      <td>Footwear</td>\n",
       "    </tr>\n",
       "    <tr>\n",
       "      <th>2</th>\n",
       "      <td>4</td>\n",
       "      <td>Apparel</td>\n",
       "    </tr>\n",
       "    <tr>\n",
       "      <th>3</th>\n",
       "      <td>5</td>\n",
       "      <td>Golf</td>\n",
       "    </tr>\n",
       "    <tr>\n",
       "      <th>4</th>\n",
       "      <td>6</td>\n",
       "      <td>Outdoors</td>\n",
       "    </tr>\n",
       "    <tr>\n",
       "      <th>5</th>\n",
       "      <td>7</td>\n",
       "      <td>Fan Shop</td>\n",
       "    </tr>\n",
       "  </tbody>\n",
       "</table>\n",
       "</div>"
      ],
      "text/plain": [
       "   department_id department_name\n",
       "0              2         Fitness\n",
       "1              3        Footwear\n",
       "2              4         Apparel\n",
       "3              5            Golf\n",
       "4              6        Outdoors\n",
       "5              7        Fan Shop"
      ]
     },
     "execution_count": 35,
     "metadata": {},
     "output_type": "execute_result"
    }
   ],
   "source": [
    "df = pd.read_csv(StringIO(file_content))\n",
    "df"
   ]
  }
 ],
 "metadata": {
  "kernelspec": {
   "display_name": "Python 3",
   "language": "python",
   "name": "python3"
  },
  "language_info": {
   "codemirror_mode": {
    "name": "ipython",
    "version": 3
   },
   "file_extension": ".py",
   "mimetype": "text/x-python",
   "name": "python",
   "nbconvert_exporter": "python",
   "pygments_lexer": "ipython3",
   "version": "3.12.1"
  }
 },
 "nbformat": 4,
 "nbformat_minor": 5
}

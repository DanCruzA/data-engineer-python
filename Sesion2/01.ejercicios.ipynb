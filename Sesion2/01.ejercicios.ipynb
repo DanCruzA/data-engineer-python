{
 "cells": [
  {
   "cell_type": "code",
   "execution_count": 1,
   "metadata": {},
   "outputs": [],
   "source": [
    "import random"
   ]
  },
  {
   "cell_type": "code",
   "execution_count": 4,
   "metadata": {},
   "outputs": [
    {
     "name": "stdout",
     "output_type": "stream",
     "text": [
      "[93, 60, 77, 30, 90, 74, 69, 79, 22, 93, 17, 74, 57, 25, 23, 95, 42, 94, 4, 97, 81, 22, 78, 58, 87, 40, 95, 34, 51, 100, 3, 35, 97, 75, 48, 38, 90, 21, 80, 100, 13, 4, 92, 49, 39, 34, 16, 65, 16, 54, 100, 55, 29, 98, 73, 61, 57, 97, 91, 49, 81, 53, 21, 43, 66, 40, 62, 72, 2, 1, 91, 14, 12, 88, 62, 74, 5, 71, 98, 39, 49, 26, 94, 70, 90, 29, 28, 16, 86, 50, 48, 95, 19, 85, 44, 91, 21, 31, 15]\n"
     ]
    }
   ],
   "source": [
    "lista = [random.randint(1,100) for i in range(1,100)]\n",
    "print(lista)"
   ]
  },
  {
   "cell_type": "code",
   "execution_count": 5,
   "metadata": {},
   "outputs": [
    {
     "name": "stdout",
     "output_type": "stream",
     "text": [
      "2734\n"
     ]
    }
   ],
   "source": [
    "# funcion para sumar numeros pares -> operado % //. 53%2 = 1\n",
    "def suma_pares(lista):\n",
    "    sum = 0\n",
    "    for item in lista:\n",
    "        if item % 2 == 0:\n",
    "            sum = sum + item\n",
    "\n",
    "    return sum\n",
    "\n",
    "\n",
    "print(suma_pares(lista))"
   ]
  },
  {
   "cell_type": "code",
   "execution_count": 13,
   "metadata": {},
   "outputs": [
    {
     "name": "stdout",
     "output_type": "stream",
     "text": [
      "True\n"
     ]
    }
   ],
   "source": [
    "# funcion para buscar un elemento en una lista\n",
    "def buscar_elemento(lista, elemento):\n",
    "    \n",
    "    for item in lista:\n",
    "        if item == elemento:\n",
    "            return True\n",
    "        #else:\n",
    "        #    return False\n",
    "    return False\n",
    "\n",
    "print(buscar_elemento(lista, 17))"
   ]
  },
  {
   "cell_type": "code",
   "execution_count": 16,
   "metadata": {},
   "outputs": [
    {
     "name": "stdout",
     "output_type": "stream",
     "text": [
      "{'python': 3, 'java': 2, 'c++': 1}\n"
     ]
    }
   ],
   "source": [
    "# Crear una función que reciba una lista de palabras y retorne un diccionario con \n",
    "# la cantidad de veces que aparece cada palabra.\n",
    "def contar_palabras(lista):\n",
    "    dict_frec = {}\n",
    "    for palabra in lista:\n",
    "        if palabra in dict_frec:\n",
    "            dict_frec[palabra] = dict_frec[palabra] + 1\n",
    "        else:\n",
    "            dict_frec[palabra] = 1\n",
    "\n",
    "    return dict_frec\n",
    "\n",
    "palabras = [\"python\", \"java\", \"python\", \"c++\", \"python\", \"java\"]\n",
    "resultado = contar_palabras(palabras)\n",
    "print(resultado)"
   ]
  },
  {
   "cell_type": "code",
   "execution_count": 17,
   "metadata": {},
   "outputs": [
    {
     "name": "stdout",
     "output_type": "stream",
     "text": [
      "Pedro\n"
     ]
    }
   ],
   "source": [
    "# Crear una función que reciba un diccionario donde las llaves sean nombres y los valores sean notas.\n",
    "# Debe retornar el nombre del alumno con la nota más alta\n",
    "def mejor_alumno(diccionario):\n",
    "    nombre = ''\n",
    "    nota_aux= -1\n",
    "\n",
    "    for nombre_dict, nota in diccionario.items():\n",
    "        if nota > nota_aux:\n",
    "            nota_aux = nota\n",
    "            nombre = nombre_dict\n",
    "    return nombre\n",
    "\n",
    "notas = {\"Ana\": 15, \"Luis\": 18, \"María\": 17, \"Pedro\": 19}\n",
    "print(mejor_alumno(notas))  "
   ]
  }
 ],
 "metadata": {
  "kernelspec": {
   "display_name": "Python 3",
   "language": "python",
   "name": "python3"
  },
  "language_info": {
   "codemirror_mode": {
    "name": "ipython",
    "version": 3
   },
   "file_extension": ".py",
   "mimetype": "text/x-python",
   "name": "python",
   "nbconvert_exporter": "python",
   "pygments_lexer": "ipython3",
   "version": "3.12.1"
  },
  "orig_nbformat": 4
 },
 "nbformat": 4,
 "nbformat_minor": 2
}

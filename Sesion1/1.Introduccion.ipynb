{
 "cells": [
  {
   "cell_type": "code",
   "execution_count": null,
   "id": "bd952ed1",
   "metadata": {},
   "outputs": [],
   "source": [
    "#if(validacion){\n",
    "#    sys\n",
    "#}"
   ]
  },
  {
   "cell_type": "code",
   "execution_count": 1,
   "id": "3f2e5f6e",
   "metadata": {},
   "outputs": [
    {
     "name": "stdout",
     "output_type": "stream",
     "text": [
      "Hola Mundo\n"
     ]
    }
   ],
   "source": [
    "print('Hola Mundo')"
   ]
  },
  {
   "cell_type": "code",
   "execution_count": 3,
   "id": "22584664",
   "metadata": {},
   "outputs": [
    {
     "ename": "NameError",
     "evalue": "name 'validacion' is not defined",
     "output_type": "error",
     "traceback": [
      "\u001b[31m---------------------------------------------------------------------------\u001b[39m",
      "\u001b[31mNameError\u001b[39m                                 Traceback (most recent call last)",
      "\u001b[36mCell\u001b[39m\u001b[36m \u001b[39m\u001b[32mIn[3]\u001b[39m\u001b[32m, line 1\u001b[39m\n\u001b[32m----> \u001b[39m\u001b[32m1\u001b[39m \u001b[38;5;28;01mif\u001b[39;00m \u001b[43mvalidacion\u001b[49m:\n\u001b[32m      2\u001b[39m     \u001b[38;5;28mprint\u001b[39m(\u001b[33m'\u001b[39m\u001b[33mHola\u001b[39m\u001b[33m'\u001b[39m)\n\u001b[32m      3\u001b[39m     x = \u001b[32m40\u001b[39m\n",
      "\u001b[31mNameError\u001b[39m: name 'validacion' is not defined"
     ]
    }
   ],
   "source": [
    "if validacion:\n",
    "    print('Hola')\n",
    "    x = 40\n",
    "\n",
    "print('Salida')"
   ]
  },
  {
   "cell_type": "code",
   "execution_count": 4,
   "id": "86603a64",
   "metadata": {},
   "outputs": [
    {
     "name": "stdout",
     "output_type": "stream",
     "text": [
      "Hola\n",
      "Salida\n"
     ]
    }
   ],
   "source": [
    "if True:\n",
    "    print('Hola')\n",
    "    x = 40\n",
    "\n",
    "print('Salida')"
   ]
  },
  {
   "cell_type": "code",
   "execution_count": null,
   "id": "07adad9a",
   "metadata": {},
   "outputs": [
    {
     "data": {
      "text/plain": [
       "'comentario docstring'"
      ]
     },
     "execution_count": 6,
     "metadata": {},
     "output_type": "execute_result"
    }
   ],
   "source": [
    "# comentario 1\n",
    "'''comentario docstring'''"
   ]
  },
  {
   "cell_type": "code",
   "execution_count": 7,
   "id": "4cdbb32e",
   "metadata": {},
   "outputs": [
    {
     "name": "stdout",
     "output_type": "stream",
     "text": [
      "HazloConDatos\n"
     ]
    }
   ],
   "source": [
    "# variables\n",
    "\n",
    "var1 = ''\n",
    "var2 = 1\n",
    "var3 = 'HazloConDatos'\n",
    "\n",
    "print(var3)"
   ]
  },
  {
   "cell_type": "code",
   "execution_count": 8,
   "id": "978e1da2",
   "metadata": {},
   "outputs": [
    {
     "name": "stdout",
     "output_type": "stream",
     "text": [
      "<class 'str'>\n"
     ]
    }
   ],
   "source": [
    "print(type(var3))"
   ]
  },
  {
   "cell_type": "code",
   "execution_count": 9,
   "id": "5800bee1",
   "metadata": {},
   "outputs": [
    {
     "name": "stdout",
     "output_type": "stream",
     "text": [
      "Manzana\n",
      "Platano\n",
      "Sandia\n"
     ]
    }
   ],
   "source": [
    "x, y, z = 'Manzana', 'Platano', 'Sandia'\n",
    "\n",
    "print(x)\n",
    "print(y)\n",
    "print(z)"
   ]
  },
  {
   "cell_type": "code",
   "execution_count": 10,
   "id": "460961a9",
   "metadata": {},
   "outputs": [
    {
     "name": "stdout",
     "output_type": "stream",
     "text": [
      "[3, 'Manzana', [1, 5, 'Platano']]\n"
     ]
    }
   ],
   "source": [
    "# Listas\n",
    "\n",
    "lista1 = []\n",
    "\n",
    "lista2 = [3, 5, 8]\n",
    "\n",
    "lista3 = ['Manzana', 'Platano']\n",
    "\n",
    "lista4 = [3, 'Manzana', 3.4]\n",
    "\n",
    "lista5 = [3, 'Manzana', [1, 5, 'Platano']]\n",
    "\n",
    "print(lista5)"
   ]
  },
  {
   "cell_type": "code",
   "execution_count": null,
   "id": "e4037992",
   "metadata": {},
   "outputs": [
    {
     "name": "stdout",
     "output_type": "stream",
     "text": [
      "[1, 5, 'Platano']\n"
     ]
    }
   ],
   "source": [
    "# operador indice []\n",
    "\n",
    "print(lista5[2])"
   ]
  },
  {
   "cell_type": "code",
   "execution_count": 13,
   "id": "99ca601f",
   "metadata": {},
   "outputs": [
    {
     "name": "stdout",
     "output_type": "stream",
     "text": [
      "Platano\n"
     ]
    }
   ],
   "source": [
    "print(lista5[2][2])"
   ]
  },
  {
   "cell_type": "code",
   "execution_count": 14,
   "id": "6c028738",
   "metadata": {},
   "outputs": [
    {
     "name": "stdout",
     "output_type": "stream",
     "text": [
      "[1, 5, 'Platano']\n"
     ]
    }
   ],
   "source": [
    "print(lista5[-1])"
   ]
  },
  {
   "cell_type": "code",
   "execution_count": 15,
   "id": "1d8bbfb7",
   "metadata": {},
   "outputs": [
    {
     "name": "stdout",
     "output_type": "stream",
     "text": [
      "Manzana\n"
     ]
    }
   ],
   "source": [
    "print(lista5[-2])"
   ]
  },
  {
   "cell_type": "code",
   "execution_count": 16,
   "id": "a3ef2edf",
   "metadata": {},
   "outputs": [],
   "source": [
    "lista6 = [1, 2, 3, 4, 5, 6, 7, 8, 9]"
   ]
  },
  {
   "cell_type": "code",
   "execution_count": 17,
   "id": "5ed5d726",
   "metadata": {},
   "outputs": [
    {
     "name": "stdout",
     "output_type": "stream",
     "text": [
      "[3, 4, 5]\n"
     ]
    }
   ],
   "source": [
    "print(lista6[2:5])"
   ]
  },
  {
   "cell_type": "code",
   "execution_count": 18,
   "id": "18621431",
   "metadata": {},
   "outputs": [
    {
     "name": "stdout",
     "output_type": "stream",
     "text": [
      "[6, 7, 8, 9]\n"
     ]
    }
   ],
   "source": [
    "print(lista6[5:])"
   ]
  },
  {
   "cell_type": "code",
   "execution_count": 19,
   "id": "3ea87821",
   "metadata": {},
   "outputs": [
    {
     "name": "stdout",
     "output_type": "stream",
     "text": [
      "[1, 2, 3, 4, 10, 6, 7, 8, 9]\n"
     ]
    }
   ],
   "source": [
    "lista6[4] = 10\n",
    "print(lista6)"
   ]
  },
  {
   "cell_type": "code",
   "execution_count": 20,
   "id": "63e55555",
   "metadata": {},
   "outputs": [
    {
     "name": "stdout",
     "output_type": "stream",
     "text": [
      "[1, 2, 3, 4, 10, 6, 7, 8, 9, 11]\n"
     ]
    }
   ],
   "source": [
    "lista6.append(11)\n",
    "print(lista6)"
   ]
  },
  {
   "cell_type": "code",
   "execution_count": 21,
   "id": "5de1edc2",
   "metadata": {},
   "outputs": [],
   "source": [
    "lista_aux = [12, 13, 14]"
   ]
  },
  {
   "cell_type": "code",
   "execution_count": 22,
   "id": "eb51ced6",
   "metadata": {},
   "outputs": [
    {
     "name": "stdout",
     "output_type": "stream",
     "text": [
      "[1, 2, 3, 4, 10, 6, 7, 8, 9, 11, [12, 13, 14]]\n"
     ]
    }
   ],
   "source": [
    "lista6.append(lista_aux)\n",
    "print(lista6)"
   ]
  },
  {
   "cell_type": "code",
   "execution_count": 23,
   "id": "9542f906",
   "metadata": {},
   "outputs": [
    {
     "name": "stdout",
     "output_type": "stream",
     "text": [
      "[1, 2, 3, 4, 10, 6, 7, 8, 9, 11, [12, 13, 14], 12, 13, 14]\n"
     ]
    }
   ],
   "source": [
    "lista6.extend(lista_aux)\n",
    "print(lista6)"
   ]
  },
  {
   "cell_type": "code",
   "execution_count": 24,
   "id": "0c557667",
   "metadata": {},
   "outputs": [],
   "source": [
    "lista6.remove([12, 13, 14])"
   ]
  },
  {
   "cell_type": "code",
   "execution_count": 25,
   "id": "f341d3ce",
   "metadata": {},
   "outputs": [
    {
     "name": "stdout",
     "output_type": "stream",
     "text": [
      "[1, 2, 3, 4, 10, 6, 7, 8, 9, 11, 12, 13, 14]\n"
     ]
    }
   ],
   "source": [
    "print(lista6)"
   ]
  },
  {
   "cell_type": "code",
   "execution_count": 26,
   "id": "ab350ba4",
   "metadata": {},
   "outputs": [],
   "source": [
    "# tuplas\n",
    "\n",
    "tupla = ()\n",
    "\n",
    "tupla1 = (3, 4, 5)\n",
    "\n",
    "tupla2 = (1, 3, 'Manzana')\n",
    "\n",
    "tupla3 = ('Manzana', 2, 4, (3, 4, 5))"
   ]
  },
  {
   "cell_type": "code",
   "execution_count": 27,
   "id": "735752aa",
   "metadata": {},
   "outputs": [
    {
     "name": "stdout",
     "output_type": "stream",
     "text": [
      "Manzana\n"
     ]
    }
   ],
   "source": [
    "print(tupla3[0])"
   ]
  },
  {
   "cell_type": "code",
   "execution_count": 29,
   "id": "9746ce38",
   "metadata": {},
   "outputs": [],
   "source": [
    "# Diccionarios\n",
    "\n",
    "diccionario = {}\n",
    "\n",
    "diccionario1 = {\n",
    "    1:'manzana', 2:'balon'\n",
    "}\n",
    "\n",
    "diccionario2 = {\n",
    "    'nombre': 'Juan', 1: (2, 3, 4)\n",
    "}\n",
    "\n",
    "diccionario3 = {\n",
    "    'nombre':'Juan', 'edad': 25, 'telefono':945235869\n",
    "}"
   ]
  },
  {
   "cell_type": "code",
   "execution_count": 30,
   "id": "c898740d",
   "metadata": {},
   "outputs": [
    {
     "name": "stdout",
     "output_type": "stream",
     "text": [
      "Juan\n"
     ]
    }
   ],
   "source": [
    "print(diccionario3['nombre'])"
   ]
  },
  {
   "cell_type": "code",
   "execution_count": 31,
   "id": "f6ac5fd1",
   "metadata": {},
   "outputs": [
    {
     "name": "stdout",
     "output_type": "stream",
     "text": [
      "945235869\n"
     ]
    }
   ],
   "source": [
    "print(diccionario3['telefono'])"
   ]
  },
  {
   "cell_type": "code",
   "execution_count": 32,
   "id": "a51d32fc",
   "metadata": {},
   "outputs": [
    {
     "name": "stdout",
     "output_type": "stream",
     "text": [
      "None\n"
     ]
    }
   ],
   "source": [
    "print(diccionario3.get('direccion'))"
   ]
  },
  {
   "cell_type": "code",
   "execution_count": 33,
   "id": "44866e87",
   "metadata": {},
   "outputs": [],
   "source": [
    "diccionario3['direccion'] = 'calle lima'"
   ]
  },
  {
   "cell_type": "code",
   "execution_count": 35,
   "id": "e8bf48e8",
   "metadata": {},
   "outputs": [
    {
     "name": "stdout",
     "output_type": "stream",
     "text": [
      "False\n"
     ]
    }
   ],
   "source": [
    "# Control flujo IF, FOR, WHILE, TRY EXCEPT\n",
    "var1 = 12\n",
    "\n",
    "if var1 < 11:\n",
    "    print('True')\n",
    "\n",
    "else:\n",
    "    print('False')"
   ]
  },
  {
   "cell_type": "code",
   "execution_count": 36,
   "id": "0daed89c",
   "metadata": {},
   "outputs": [
    {
     "name": "stdout",
     "output_type": "stream",
     "text": [
      "False\n"
     ]
    }
   ],
   "source": [
    "if var1 < 11:\n",
    "    print('True')\n",
    "    if var1 > 8:\n",
    "        print('mayor a 8')\n",
    "\n",
    "else:\n",
    "    print('False')"
   ]
  },
  {
   "cell_type": "code",
   "execution_count": 37,
   "id": "a219c5ab",
   "metadata": {},
   "outputs": [
    {
     "name": "stdout",
     "output_type": "stream",
     "text": [
      "[1, 2, 3, 4, 10, 6, 7, 8, 9, 11, 12, 13, 14]\n"
     ]
    }
   ],
   "source": [
    "# FOR\n",
    "print(lista6)"
   ]
  },
  {
   "cell_type": "code",
   "execution_count": 40,
   "id": "131f1b13",
   "metadata": {},
   "outputs": [
    {
     "name": "stdout",
     "output_type": "stream",
     "text": [
      "1\n",
      "2\n",
      "3\n",
      "4\n",
      "10\n",
      "6\n",
      "7\n",
      "8\n",
      "9\n",
      "11\n",
      "12\n",
      "13\n",
      "14\n"
     ]
    }
   ],
   "source": [
    "for item in lista6:\n",
    "    print(item)\n",
    "    if item == 5:\n",
    "        print(item*5)"
   ]
  },
  {
   "cell_type": "code",
   "execution_count": 41,
   "id": "84d635bf",
   "metadata": {},
   "outputs": [
    {
     "name": "stdout",
     "output_type": "stream",
     "text": [
      "while\n",
      "while\n",
      "while\n",
      "while\n",
      "while\n"
     ]
    }
   ],
   "source": [
    "i = 1\n",
    "\n",
    "while i <= 5:\n",
    "    print('while')\n",
    "    i = i+1"
   ]
  },
  {
   "cell_type": "code",
   "execution_count": 42,
   "id": "6091f115",
   "metadata": {},
   "outputs": [],
   "source": [
    "# Funciones\n",
    "\n",
    "def nombre_funcion():\n",
    "    print('Hola Mundo')"
   ]
  },
  {
   "cell_type": "code",
   "execution_count": 43,
   "id": "f961369b",
   "metadata": {},
   "outputs": [
    {
     "name": "stdout",
     "output_type": "stream",
     "text": [
      "Hola Mundo\n"
     ]
    }
   ],
   "source": [
    "nombre_funcion()"
   ]
  },
  {
   "cell_type": "code",
   "execution_count": null,
   "id": "990c048c",
   "metadata": {},
   "outputs": [],
   "source": [
    "def di_hola(nombre):\n",
    "    print('Hola ', nombre)"
   ]
  },
  {
   "cell_type": "code",
   "execution_count": 45,
   "id": "195aeda9",
   "metadata": {},
   "outputs": [
    {
     "name": "stdout",
     "output_type": "stream",
     "text": [
      "Hola  Juan\n"
     ]
    }
   ],
   "source": [
    "di_hola('Juan')"
   ]
  },
  {
   "cell_type": "code",
   "execution_count": 46,
   "id": "9ce61c93",
   "metadata": {},
   "outputs": [
    {
     "name": "stdout",
     "output_type": "stream",
     "text": [
      "Hola\n"
     ]
    }
   ],
   "source": [
    "saluda = lambda: 'Hola'\n",
    "\n",
    "print(saluda())"
   ]
  }
 ],
 "metadata": {
  "kernelspec": {
   "display_name": "Python 3",
   "language": "python",
   "name": "python3"
  },
  "language_info": {
   "codemirror_mode": {
    "name": "ipython",
    "version": 3
   },
   "file_extension": ".py",
   "mimetype": "text/x-python",
   "name": "python",
   "nbconvert_exporter": "python",
   "pygments_lexer": "ipython3",
   "version": "3.12.1"
  }
 },
 "nbformat": 4,
 "nbformat_minor": 5
}
